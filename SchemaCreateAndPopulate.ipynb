{
 "cells": [
  {
   "cell_type": "markdown",
   "metadata": {
    "deletable": true,
    "editable": true
   },
   "source": [
    "*Генерация тестовых данных по продажам для дашборда*"
   ]
  },
  {
   "cell_type": "markdown",
   "metadata": {
    "deletable": true,
    "editable": true
   },
   "source": [
    "![](model.png)"
   ]
  },
  {
   "cell_type": "markdown",
   "metadata": {
    "deletable": true,
    "editable": true
   },
   "source": [
    "    Наша задача заполнить тестовыми данными эту модель, чтобы были данные для начала разработки дашборда"
   ]
  },
  {
   "cell_type": "markdown",
   "metadata": {
    "deletable": true,
    "editable": true
   },
   "source": [
    "Создаем БД и нашу модель в Sqlite. Нужно создать и заполнить следующие таблицы:\n",
    "\n",
    "- DIM_PRODUCTS\n",
    "- DIM_MANAGERS\n",
    "- DIM_MANAGERS_KPI\n",
    "- DIM_BRANCHES\n",
    "- DIM_BRANCHES_GEO\n",
    "- FCT_SALES\n",
    "\n",
    "Здесь префикс DIM это dimension tables, FCT fact table."
   ]
  },
  {
   "cell_type": "markdown",
   "metadata": {
    "deletable": true,
    "editable": true
   },
   "source": [
    "БД сохраняется в каталоге этого notebook в файле **test_db.sqlite**"
   ]
  },
  {
   "cell_type": "code",
   "execution_count": 1,
   "metadata": {
    "collapsed": true,
    "deletable": true,
    "editable": true
   },
   "outputs": [],
   "source": [
    "from sqlalchemy import create_engine\n",
    "import os\n",
    "\n",
    "db_name = 'test_db.sqlite'\n",
    "\n",
    "try:\n",
    "    os.remove('./'+db_name)\n",
    "except:\n",
    "    if not connection.closed:\n",
    "        connection.close()\n",
    "        os.remove('./'+db_name)\n",
    "\n",
    "engine = create_engine('sqlite:///'+db_name)\n",
    "connection = engine.connect()"
   ]
  },
  {
   "cell_type": "code",
   "execution_count": 2,
   "metadata": {
    "collapsed": false,
    "deletable": true,
    "editable": true
   },
   "outputs": [
    {
     "data": {
      "text/plain": [
       "['DIM_BRANCHES',\n",
       " 'DIM_BRANCHES_GEO',\n",
       " 'DIM_MANAGERS',\n",
       " 'DIM_MANAGERS_KPI',\n",
       " 'DIM_PRODUCTS',\n",
       " 'FCT_SALES']"
      ]
     },
     "execution_count": 2,
     "metadata": {},
     "output_type": "execute_result"
    }
   ],
   "source": [
    "from sqlalchemy import MetaData, Table, Column, String, Integer, Date, Numeric\n",
    "from datetime import datetime\n",
    "\n",
    "metadata = MetaData()\n",
    "       \n",
    "managers = Table('DIM_MANAGERS', metadata, \n",
    "                     Column('ID', Integer()), \n",
    "                     Column('EMPLOYEE_CODE', String(50)),\n",
    "                     Column('FULL_NAME', String(250)),\n",
    "                     Column('DT_VALID_FROM', Date(), default=datetime.strptime('01-01-2018', '%d-%m-%Y')),\n",
    "                     Column('DT_VALID_TO', Date(), default=datetime.strptime('31-12-9999', '%d-%m-%Y'))\n",
    "                    )\n",
    "    \n",
    "products = Table('DIM_PRODUCTS', metadata,\n",
    "                    Column('ID', Integer()),\n",
    "                    Column('CODE', String(50)),\n",
    "                    Column('NAME', String(250)),\n",
    "                    Column('DT_VALID_FROM', Date(), default=datetime.strptime('01-01-2018', '%d-%m-%Y')),\n",
    "                    Column('DT_VALID_TO', Date(), default=datetime.strptime('31-12-9999', '%d-%m-%Y'))\n",
    "                   )\n",
    "    \n",
    "branches = Table('DIM_BRANCHES', metadata,\n",
    "                    Column('ID', Integer()),\n",
    "                    Column('CODE', String(50)),\n",
    "                    Column('NAME', String(250)),\n",
    "                    Column('DT_VALID_FROM', Date(), default=datetime.strptime('01-01-2018', '%d-%m-%Y')),\n",
    "                    Column('DT_VALID_TO', Date(), default=datetime.strptime('31-12-9999', '%d-%m-%Y'))\n",
    "                   )\n",
    "    \n",
    "managers_kpi = Table('DIM_MANAGERS_KPI', metadata, \n",
    "                     Column('MANAGER_ID', Integer()), \n",
    "                     Column('KPI', Numeric(5,2)),\n",
    "                     Column('DT_VALID_FROM', Date(), default=datetime.strptime('01-01-2018', '%d-%m-%Y')),\n",
    "                     Column('DT_VALID_TO', Date(), default=datetime.strptime('31-12-9999', '%d-%m-%Y'))\n",
    "                    )\n",
    "    \n",
    "branches_geo = Table('DIM_BRANCHES_GEO', metadata,\n",
    "                    Column('BRANCH_ID', Integer()),\n",
    "                    Column('CITY', String(50)),\n",
    "                    Column('LONGITUDE', Numeric(5,9)),\n",
    "                    Column('LATITUDE', Numeric(5,9)),\n",
    "                    Column('ADDRESS', String(250)),\n",
    "                    Column('REGION_ISO_CODE', String(30)),\n",
    "                    Column('DT_VALID_FROM', Date(), default=datetime.strptime('01-01-2018', '%d-%m-%Y')),\n",
    "                    Column('DT_VALID_TO', Date(), default=datetime.strptime('31-12-9999', '%d-%m-%Y'))\n",
    "                   )\n",
    "    \n",
    "sales = Table('FCT_SALES', metadata,\n",
    "                  Column('OPERATION_DATE', Date()),\n",
    "                  Column('PRODUCT_ID', Integer()),\n",
    "                  Column('MANAGER_ID', Integer()),\n",
    "                  Column('BRANCH_ID', Integer()),\n",
    "                  Column('QUANTITY', Integer()),  \n",
    "                  Column('AMOUNT', Numeric(18,2)),\n",
    "                  Column('AMOUNT_KZT', Numeric(18,2))\n",
    "                  )\n",
    "metadata.create_all(engine)\n",
    "engine.table_names()"
   ]
  },
  {
   "cell_type": "markdown",
   "metadata": {
    "deletable": true,
    "editable": true
   },
   "source": [
    "Скачиваем датасет с ФИО людей и распаковываем"
   ]
  },
  {
   "cell_type": "code",
   "execution_count": 4,
   "metadata": {
    "collapsed": false,
    "deletable": true,
    "editable": true
   },
   "outputs": [
    {
     "data": {
      "text/plain": [
       "('human_names.zip', <http.client.HTTPMessage at 0x2a383724dd8>)"
      ]
     },
     "execution_count": 4,
     "metadata": {},
     "output_type": "execute_result"
    }
   ],
   "source": [
    "from urllib.request import urlretrieve\n",
    "\n",
    "url = 'https://mydata.biz/storage/download/ebcdfe6fb2d546398010e0d6564a79bb/%D0%91%D0%B0%D0%B7%D0%B0%20%D0%B4%D0%B0%D0%BD%D0%BD%D1%8B%D1%85%20%D0%B8%D0%BC%D0%B5%D0%BD%20%D0%B8%20%D1%84%D0%B0%D0%BC%D0%B8%D0%BB%D0%B8%D0%B9%20%D0%B2%20%D1%84%D0%BE%D1%80%D0%BC%D0%B0%D1%82%D0%B5%20CSV.zip'\n",
    "file_name = 'human_names.zip'\n",
    "urlretrieve(url, file_name)"
   ]
  },
  {
   "cell_type": "code",
   "execution_count": 5,
   "metadata": {
    "collapsed": false,
    "deletable": true,
    "editable": true
   },
   "outputs": [
    {
     "name": "stdout",
     "output_type": "stream",
     "text": [
      "['foreign_names.csv', 'russian_names.csv', 'russian_surnames.csv', '_readme.txt']\n"
     ]
    }
   ],
   "source": [
    "import zipfile\n",
    "arc = zipfile.ZipFile(file_name, 'r')\n",
    "dir_name = './data/human_names'\n",
    "arc.extractall(dir_name)\n",
    "arc.close()\n",
    "\n",
    "print(os.listdir(dir_name))"
   ]
  },
  {
   "cell_type": "markdown",
   "metadata": {
    "deletable": true,
    "editable": true
   },
   "source": [
    "Генерим менеджеров, и заполняем DIM_MANAGERS"
   ]
  },
  {
   "cell_type": "code",
   "execution_count": 6,
   "metadata": {
    "collapsed": false,
    "deletable": true,
    "editable": true
   },
   "outputs": [
    {
     "name": "stdout",
     "output_type": "stream",
     "text": [
      "51529\n",
      "318474\n",
      "0       Аалия\n",
      "1    Аанжелла\n",
      "2         Аба\n",
      "Name: Name, dtype: object\n",
      "0     Аалферов\n",
      "1    Аалферова\n",
      "2         Ааль\n",
      "Name: Surname, dtype: object\n"
     ]
    }
   ],
   "source": [
    "import pandas as pd\n",
    "\n",
    "f_nm = pd.read_csv(dir_name + '/russian_names.csv', sep=';', usecols=['Name'], squeeze=True).dropna()\n",
    "l_nm = pd.read_csv(dir_name + '/russian_surnames.csv', sep=';', usecols=['Surname'], squeeze=True).dropna()\n",
    "\n",
    "print(len(f_nm))\n",
    "print(len(l_nm))\n",
    "\n",
    "print(f_nm[:3])\n",
    "print(l_nm[:3])"
   ]
  },
  {
   "cell_type": "markdown",
   "metadata": {
    "deletable": true,
    "editable": true
   },
   "source": [
    "- Выбираем случайные Фамилию и Имя из скачанного датасета\n",
    "- генерим айди"
   ]
  },
  {
   "cell_type": "code",
   "execution_count": 7,
   "metadata": {
    "collapsed": false,
    "deletable": true,
    "editable": true
   },
   "outputs": [
    {
     "name": "stdout",
     "output_type": "stream",
     "text": [
      "[1001, 1002, 1003, 1004, 1005, 1006, 1007, 1008, 1009, 1010]\n"
     ]
    },
    {
     "data": {
      "text/plain": [
       "[{'EMPLOYEE_CODE': 'UMEN_1001', 'FULL_NAME': 'Мурод Жебраков', 'ID': 1001},\n",
       " {'EMPLOYEE_CODE': 'UMEN_1002', 'FULL_NAME': 'Бафтазер Баткеева', 'ID': 1002},\n",
       " {'EMPLOYEE_CODE': 'UMEN_1003', 'FULL_NAME': 'Чар Богоявленский', 'ID': 1003},\n",
       " {'EMPLOYEE_CODE': 'UMEN_1004',\n",
       "  'FULL_NAME': 'Исламбек Балаченков',\n",
       "  'ID': 1004},\n",
       " {'EMPLOYEE_CODE': 'UMEN_1005', 'FULL_NAME': 'Борис Самосенко', 'ID': 1005}]"
      ]
     },
     "execution_count": 7,
     "metadata": {},
     "output_type": "execute_result"
    }
   ],
   "source": [
    "import numpy as np\n",
    "\n",
    "n_mgr = 1500\n",
    "ids = [x+1001 for x in range(n_mgr)]\n",
    "print(ids[:10])\n",
    "\n",
    "inds_f = np.random.choice(np.arange(len(f_nm)), size = n_mgr)\n",
    "inds_l = np.random.choice(np.arange(len(l_nm)), size = n_mgr)\n",
    "\n",
    "f_nm = f_nm.iloc[inds_f]\n",
    "l_nm = l_nm.iloc[inds_l]\n",
    "\n",
    "values = [{'ID' : k1, 'EMPLOYEE_CODE' : k2, 'FULL_NAME' : fn + ' ' + ln} for (k1, k2, fn, ln) in zip(ids, \n",
    "                                                                                 ['UMEN_'+str(x) for x in ids], \n",
    "                                                                                 f_nm, l_nm)]\n",
    "\n",
    "values[:5]"
   ]
  },
  {
   "cell_type": "code",
   "execution_count": 8,
   "metadata": {
    "collapsed": false,
    "deletable": true,
    "editable": true
   },
   "outputs": [
    {
     "name": "stdout",
     "output_type": "stream",
     "text": [
      "1500\n"
     ]
    }
   ],
   "source": [
    "from sqlalchemy import insert\n",
    "\n",
    "rs = connection.execute(insert(managers), values)\n",
    "print(rs.rowcount)"
   ]
  },
  {
   "cell_type": "markdown",
   "metadata": {
    "deletable": true,
    "editable": true
   },
   "source": [
    "Заполняем DIM_MANAGERS_KPI"
   ]
  },
  {
   "cell_type": "code",
   "execution_count": 9,
   "metadata": {
    "collapsed": false,
    "deletable": true,
    "editable": true
   },
   "outputs": [
    {
     "name": "stdout",
     "output_type": "stream",
     "text": [
      "[{'MANAGER_ID': 1001, 'KPI': 6.02}, {'MANAGER_ID': 1002, 'KPI': 0.86}, {'MANAGER_ID': 1003, 'KPI': 8.72}, {'MANAGER_ID': 1004, 'KPI': 4.7}, {'MANAGER_ID': 1005, 'KPI': 7.01}]\n",
      "1500\n"
     ]
    }
   ],
   "source": [
    "from sqlalchemy import select\n",
    "rs = connection.execute(select([managers.columns.ID])).fetchall()\n",
    "\n",
    "values = [{'MANAGER_ID' : x[0], 'KPI' : round(np.random.random()*10, 2)} for x in rs]\n",
    "print(values[:5])\n",
    "\n",
    "rs = connection.execute(insert(managers_kpi), values)\n",
    "print(rs.rowcount)"
   ]
  },
  {
   "cell_type": "markdown",
   "metadata": {
    "collapsed": true,
    "deletable": true,
    "editable": true
   },
   "source": [
    "Заполняем DIM_PRODUCTS"
   ]
  },
  {
   "cell_type": "code",
   "execution_count": 10,
   "metadata": {
    "collapsed": false,
    "deletable": true,
    "editable": true
   },
   "outputs": [
    {
     "name": "stdout",
     "output_type": "stream",
     "text": [
      "[{'NAME': 'Автокредит_0', 'CODE': 'AUTOCRED_0', 'ID': 1}, {'NAME': 'Карта_1', 'CODE': 'CARD_1', 'ID': 2}, {'NAME': 'Ипотека_2', 'CODE': 'MORTGAGE_2', 'ID': 3}, {'NAME': 'Кредит_3', 'CODE': 'LOAN_3', 'ID': 4}, {'NAME': 'Карта_4', 'CODE': 'CARD_4', 'ID': 5}]\n",
      "100\n"
     ]
    }
   ],
   "source": [
    "ids = [x for x in range(100)]\n",
    "product_types = ['DEPOSIT', 'LOAN', 'MORTGAGE', 'CARD', 'AUTOCRED', 'TRANSFER']\n",
    "product_types_n = ['Депозит', 'Кредит', 'Ипотека', 'Карта', 'Автокредит', 'Перевод']\n",
    "\n",
    "values = [{'ID':i+1, \n",
    "           'CODE':product_types[j]+'_'+str(i), \n",
    "           'NAME':product_types_n[j]+'_'+str(i)} for i, j in zip(ids,\n",
    "                                                                 [x for x in np.random.choice(len(product_types), size=100)])]\n",
    "\n",
    "print(values[:5])\n",
    "\n",
    "rs = connection.execute(insert(products), values)\n",
    "print(rs.rowcount)"
   ]
  },
  {
   "cell_type": "markdown",
   "metadata": {
    "deletable": true,
    "editable": true
   },
   "source": [
    "Заполняем DIM_BRANCHES и DIM_BRANCHES_GEO из живых данных, для визуализации на реальных геоданных"
   ]
  },
  {
   "cell_type": "markdown",
   "metadata": {
    "deletable": true,
    "editable": true
   },
   "source": [
    "Скрейпим сайт eubank.kz"
   ]
  },
  {
   "cell_type": "code",
   "execution_count": 11,
   "metadata": {
    "collapsed": false,
    "deletable": true,
    "editable": true
   },
   "outputs": [
    {
     "name": "stdout",
     "output_type": "stream",
     "text": [
      "[{'city': 'Алматы', 'id': '1'}, {'city': 'Астана', 'id': '3'}, {'city': 'Актау', 'id': '6'}, {'city': 'Актобе', 'id': '11'}, {'city': 'Атырау', 'id': '18'}, {'city': 'Караганда', 'id': '5'}, {'city': 'Кокшетау', 'id': '37'}, {'city': 'Костанай', 'id': '4'}, {'city': 'Кызылорда', 'id': '41'}, {'city': 'Павлодар', 'id': '23'}, {'city': 'Петропавловск', 'id': '26'}, {'city': 'Талдыкорган', 'id': '31'}, {'city': 'Тараз', 'id': '20'}, {'city': 'Уральск', 'id': '24'}, {'city': 'Усть-Каменогорск', 'id': '19'}, {'city': 'Шымкент', 'id': '27'}]\n"
     ]
    }
   ],
   "source": [
    "import requests, re\n",
    "\n",
    "url = 'https://www.eubank.kz/map/filial/'\n",
    "html = requests.get(url).text\n",
    "\n",
    "from bs4 import BeautifulSoup\n",
    "soup = BeautifulSoup(html, 'html.parser')\n",
    "\n",
    "city = [{'city' : x.text, 'id': x['value']} for x in soup.find('select', {'class':'big_select'}).find_all('option')]\n",
    "print(city)"
   ]
  },
  {
   "cell_type": "code",
   "execution_count": 12,
   "metadata": {
    "collapsed": false,
    "deletable": true,
    "editable": true
   },
   "outputs": [
    {
     "name": "stdout",
     "output_type": "stream",
     "text": [
      "132\n",
      "[{'lon': '76.9499533', 'city': 'Алматы', 'address': '050011, ул.Шолохова, 17/7', 'name': 'Отделение №601', 'lat': '43.335679'}, {'lon': '76.898144', 'city': 'Алматы', 'address': '050008, ул.Толе би, 187 \"A\", уг.ул.Жарокова', 'name': 'Отделение №605', 'lat': '43.252142'}, {'lon': '76.930958', 'city': 'Алматы', 'address': '050014, мкр.Айнабулак, ул.Жумабаева, 98 \"A\", уг.ул.Палладина', 'name': 'Отделение №607', 'lat': '43.317189'}, {'lon': '76.839916', 'city': 'Алматы', 'address': '050063, мкр.Жетысу 1, 55, пр.Абая, уг.ул.Б.Момышулы', 'name': 'Отделение №608', 'lat': '43.217485'}, {'lon': '76.945213', 'city': 'Алматы', 'address': '050013, пр.Абая, 12/38 \"А\"', 'name': 'Отделение №609', 'lat': '43.241707'}]\n"
     ]
    }
   ],
   "source": [
    "branches_from_web = []\n",
    "for r in city:\n",
    "    html = requests.get(url+'?city='+r['id']).text\n",
    "    soup = BeautifulSoup(html, \"html.parser\")\n",
    "    for rows in soup.find('table', {'class':'list_table'}).find_all('tr'):\n",
    "        if rows.find('td'):\n",
    "            branches_from_web.append({'city' : r['city'],\n",
    "                                  'name' : rows.find('td', {'class':'name_bank_inner'}).text,\n",
    "                                  'address' : rows.find('a', {'class':'yandex-a 1'}).text,\n",
    "                                  'lon' : re.search(r'Map\\(.*?(\\d+\\.\\d+).*?(\\d+\\.\\d+)',\n",
    "                                                    rows.find('a', {'class':'yandex-a 1'})['href']).group(1),\n",
    "                                  'lat' : re.search(r'Map\\(.*?(\\d+\\.\\d+).*?(\\d+\\.\\d+)',\n",
    "                                                    rows.find('a', {'class':'yandex-a 1'})['href']).group(2)\n",
    "                                 })\n",
    "        \n",
    "print(len(branches_from_web))\n",
    "print(branches_from_web[:5])"
   ]
  },
  {
   "cell_type": "code",
   "execution_count": 13,
   "metadata": {
    "collapsed": false,
    "deletable": true,
    "editable": true
   },
   "outputs": [
    {
     "name": "stdout",
     "output_type": "stream",
     "text": [
      "[{'NAME': 'Отделение №601', 'CODE': '601', 'ID': 1}, {'NAME': 'Отделение №605', 'CODE': '605', 'ID': 2}, {'NAME': 'Отделение №607', 'CODE': '607', 'ID': 3}, {'NAME': 'Отделение №608', 'CODE': '608', 'ID': 4}, {'NAME': 'Отделение №609', 'CODE': '609', 'ID': 5}, {'NAME': 'Отделение №610', 'CODE': '610', 'ID': 6}, {'NAME': 'Отделение №613 ', 'CODE': '613', 'ID': 7}, {'NAME': 'Отделение №617', 'CODE': '617', 'ID': 8}, {'NAME': 'Отделение №620', 'CODE': '620', 'ID': 9}, {'NAME': 'Отделение №621', 'CODE': '621', 'ID': 10}]\n",
      "132\n"
     ]
    }
   ],
   "source": [
    "region_iso_kz = {'Алматы' : 'KZ-ALA', \n",
    " 'Астана' : 'KZ-AST',\n",
    " 'Байконур' : 'KZ-BAY',\n",
    " 'Талдыкорган' : 'KZ-ALM', \n",
    " 'Кокшетау' : 'KZ-AKM',\n",
    " 'Актобе' : 'KZ-AKT',\n",
    " 'Атырау' : 'KZ-ATY',\n",
    " 'Усть-Каменогорск' : 'KZ-VOS',\n",
    " 'Тараз' : 'KZ-ZHA',\n",
    " 'Уральск' : 'KZ-ZAP',\n",
    " 'Караганда' : 'KZ-KAR',\n",
    " 'Костанай' : 'KZ-KUS',\n",
    " 'Кызылорда' : 'KZ-KZY',\n",
    " 'Актау' : 'KZ-MAN',\n",
    " 'Павлодар' : 'KZ-PAV',\n",
    " 'Петропавловск' : 'KZ-SEV',\n",
    " 'Шымкент' : 'KZ-YUZ'}\n",
    "\n",
    "values = [{'ID': k+1, \n",
    "           'CODE': re.search(r'№(\\d+)', v['name']).group(1), \n",
    "           'NAME': v['name']} for k, v in enumerate(branches_from_web)]\n",
    "print(values[:10])\n",
    "\n",
    "r = connection.execute(insert(branches), values)\n",
    "print(r.rowcount)"
   ]
  },
  {
   "cell_type": "code",
   "execution_count": 14,
   "metadata": {
    "collapsed": false,
    "deletable": true,
    "editable": true
   },
   "outputs": [
    {
     "name": "stdout",
     "output_type": "stream",
     "text": [
      "[{'LONGITUDE': '76.9499533', 'CITY': 'Алматы', 'BRANCH_ID': 1, 'ADDRESS': '050011, ул.Шолохова, 17/7', 'LATITUDE': '43.335679', 'REGION_ISO_CODE': 'KZ-ALA'}, {'LONGITUDE': '76.898144', 'CITY': 'Алматы', 'BRANCH_ID': 2, 'ADDRESS': '050008, ул.Толе би, 187 \"A\", уг.ул.Жарокова', 'LATITUDE': '43.252142', 'REGION_ISO_CODE': 'KZ-ALA'}, {'LONGITUDE': '76.930958', 'CITY': 'Алматы', 'BRANCH_ID': 3, 'ADDRESS': '050014, мкр.Айнабулак, ул.Жумабаева, 98 \"A\", уг.ул.Палладина', 'LATITUDE': '43.317189', 'REGION_ISO_CODE': 'KZ-ALA'}, {'LONGITUDE': '76.839916', 'CITY': 'Алматы', 'BRANCH_ID': 4, 'ADDRESS': '050063, мкр.Жетысу 1, 55, пр.Абая, уг.ул.Б.Момышулы', 'LATITUDE': '43.217485', 'REGION_ISO_CODE': 'KZ-ALA'}, {'LONGITUDE': '76.945213', 'CITY': 'Алматы', 'BRANCH_ID': 5, 'ADDRESS': '050013, пр.Абая, 12/38 \"А\"', 'LATITUDE': '43.241707', 'REGION_ISO_CODE': 'KZ-ALA'}, {'LONGITUDE': '76.904469', 'CITY': 'Алматы', 'BRANCH_ID': 6, 'ADDRESS': '050043, мкр.Мирас, 188', 'LATITUDE': '43.132231', 'REGION_ISO_CODE': 'KZ-ALA'}, {'LONGITUDE': '76.899723', 'CITY': 'Алматы', 'BRANCH_ID': 7, 'ADDRESS': '050034, пр.Райымбека, 239 \"Г\" (ТРК \"MAXIMA\")', 'LATITUDE': '43.264941', 'REGION_ISO_CODE': 'KZ-ALA'}, {'LONGITUDE': '76.943101', 'CITY': 'Алматы', 'BRANCH_ID': 8, 'ADDRESS': '050000, пр.Абылай хана, 92/87, уг.ул.Кабанбай батыра', 'LATITUDE': '43.249955', 'REGION_ISO_CODE': 'KZ-ALA'}, {'LONGITUDE': '76.8817', 'CITY': 'Алматы', 'BRANCH_ID': 9, 'ADDRESS': '050043, мкр.Орбита-2, 28, кв.31', 'LATITUDE': '43.196894', 'REGION_ISO_CODE': 'KZ-ALA'}, {'LONGITUDE': '76.952446', 'CITY': 'Алматы', 'BRANCH_ID': 10, 'ADDRESS': '050002, ул.Пушкина, 41, помещение 121', 'LATITUDE': '43.263394', 'REGION_ISO_CODE': 'KZ-ALA'}]\n",
      "132\n"
     ]
    }
   ],
   "source": [
    "values = [{'BRANCH_ID': k+1, \n",
    "           'CITY': v['city'], \n",
    "           'LONGITUDE': v['lon'],\n",
    "           'LATITUDE' : v['lat'],\n",
    "           'ADDRESS' : v['address'],\n",
    "           'REGION_ISO_CODE' : region_iso_kz[v['city']] } for k, v in enumerate(branches_from_web)]\n",
    "print(values[:10])\n",
    "\n",
    "r = connection.execute(insert(branches_geo), values)\n",
    "print(r.rowcount)"
   ]
  },
  {
   "cell_type": "markdown",
   "metadata": {
    "deletable": true,
    "editable": true
   },
   "source": [
    "Заполняем FCT_SALES"
   ]
  },
  {
   "cell_type": "code",
   "execution_count": 15,
   "metadata": {
    "collapsed": false,
    "deletable": true,
    "editable": true
   },
   "outputs": [],
   "source": [
    "#from sqlalchemy import func\n",
    "\n",
    "rs_mgr = [x[0] for x in connection.execute(select([managers.columns.ID])).fetchall()]\n",
    "rs_prod = [x[0] for x in connection.execute(select([products.columns.ID])).fetchall()]\n",
    "rs_brn = [x[0] for x in connection.execute(select([branches.columns.ID])).fetchall()]\n",
    "\n",
    "rs_mgr = [(x, rs_brn[np.random.choice(len(rs_brn), size=1).tolist()[0]]) for x in rs_mgr]\n",
    "\n",
    "today = datetime.now().strftime('%d-%m-%Y')\n",
    "dates = [x for x in pd.date_range('01-01-2018', today).to_pydatetime().tolist() if x.weekday() not in [5,6]]"
   ]
  },
  {
   "cell_type": "code",
   "execution_count": 16,
   "metadata": {
    "collapsed": false,
    "deletable": true,
    "editable": true
   },
   "outputs": [],
   "source": [
    "values = []\n",
    "for d in dates:\n",
    "    for mgr in rs_mgr:\n",
    "        p = np.random.random()\n",
    "        if round(p*10) % 2 == 0:\n",
    "            for pr in rs_prod:\n",
    "                p = np.random.random()\n",
    "                if p > 0.6:\n",
    "                    p = round(np.random.random() * 20)\n",
    "                    if p>0:\n",
    "                        values.append({'OPERATION_DATE' : d,\n",
    "                                       'PRODUCT_ID' : pr,\n",
    "                                       'MANAGER_ID' : mgr[0],\n",
    "                                       'BRANCH_ID' : mgr[1],\n",
    "                                       'QUANTITY' : p\n",
    "                                      })"
   ]
  },
  {
   "cell_type": "code",
   "execution_count": null,
   "metadata": {
    "collapsed": false,
    "deletable": true,
    "editable": true
   },
   "outputs": [],
   "source": [
    "values[:3]\n",
    "\n",
    "st = 0\n",
    "for i in range(0, len(values)+1, 1000):\n",
    "    r = connection.execute(insert(sales), values[st:i])\n",
    "    st = i\n",
    "    \n",
    "#print(r.rowcount)"
   ]
  },
  {
   "cell_type": "markdown",
   "metadata": {
    "deletable": true,
    "editable": true
   },
   "source": [
    "Собираю витрину"
   ]
  },
  {
   "cell_type": "code",
   "execution_count": 21,
   "metadata": {
    "collapsed": false,
    "deletable": true,
    "editable": true
   },
   "outputs": [
    {
     "data": {
      "text/plain": [
       "'SELECT \"DIM_MANAGERS\".\"EMPLOYEE_CODE\", \"DIM_MANAGERS\".\"FULL_NAME\" AS \"MANAGER_NAME\", \"DIM_PRODUCTS\".\"CODE\" AS \"PRODUCT_CODE\", \"DIM_PRODUCTS\".\"NAME\" AS \"PRODUCT_NAME\", \"DIM_BRANCHES\".\"CODE\" AS \"BRANCH_CODE\", \"DIM_BRANCHES\".\"NAME\" AS \"BRANCH_NAME\", \"DIM_BRANCHES_GEO\".\"LONGITUDE\" AS \"BRANCH_LON\", \"DIM_BRANCHES_GEO\".\"LATITUDE\" AS \"BRANCH_LAT\", \"DIM_BRANCHES_GEO\".\"REGION_ISO_CODE\" AS \"REGION_ISO_CODE\", \"DIM_MANAGERS_KPI\".\"KPI\", \"FCT_SALES\".\"OPERATION_DATE\", sum(\"FCT_SALES\".\"QUANTITY\") AS \"QUANTITY\" \\nFROM \"DIM_MANAGERS\", \"DIM_PRODUCTS\", \"DIM_BRANCHES\", \"DIM_BRANCHES_GEO\", \"DIM_MANAGERS_KPI\", \"FCT_SALES\" \\nWHERE \"FCT_SALES\".\"OPERATION_DATE\" BETWEEN \"DIM_MANAGERS\".\"DT_VALID_FROM\" AND \"DIM_MANAGERS\".\"DT_VALID_TO\" AND \"FCT_SALES\".\"OPERATION_DATE\" BETWEEN \"DIM_PRODUCTS\".\"DT_VALID_FROM\" AND \"DIM_PRODUCTS\".\"DT_VALID_TO\" AND \"FCT_SALES\".\"OPERATION_DATE\" BETWEEN \"DIM_BRANCHES\".\"DT_VALID_FROM\" AND \"DIM_BRANCHES\".\"DT_VALID_TO\" AND \"FCT_SALES\".\"OPERATION_DATE\" BETWEEN \"DIM_BRANCHES_GEO\".\"DT_VALID_FROM\" AND \"DIM_BRANCHES_GEO\".\"DT_VALID_TO\" AND \"FCT_SALES\".\"OPERATION_DATE\" BETWEEN \"DIM_MANAGERS_KPI\".\"DT_VALID_FROM\" AND \"DIM_MANAGERS_KPI\".\"DT_VALID_TO\" AND \"FCT_SALES\".\"MANAGER_ID\" = \"DIM_MANAGERS\".\"ID\" AND \"FCT_SALES\".\"BRANCH_ID\" = \"DIM_BRANCHES\".\"ID\" AND \"FCT_SALES\".\"PRODUCT_ID\" = \"DIM_PRODUCTS\".\"ID\" AND \"DIM_MANAGERS_KPI\".\"MANAGER_ID\" = \"DIM_MANAGERS\".\"ID\" AND \"DIM_BRANCHES_GEO\".\"BRANCH_ID\" = \"DIM_BRANCHES\".\"ID\" GROUP BY \"DIM_MANAGERS\".\"EMPLOYEE_CODE\", \"DIM_MANAGERS\".\"FULL_NAME\", \"DIM_PRODUCTS\".\"CODE\", \"DIM_PRODUCTS\".\"NAME\", \"DIM_BRANCHES\".\"CODE\", \"DIM_BRANCHES\".\"NAME\", \"DIM_BRANCHES_GEO\".\"LONGITUDE\", \"DIM_BRANCHES_GEO\".\"LATITUDE\", \"DIM_BRANCHES_GEO\".\"REGION_ISO_CODE\", \"DIM_MANAGERS_KPI\".\"KPI\", \"FCT_SALES\".\"OPERATION_DATE\" ORDER BY \"FCT_SALES\".\"OPERATION_DATE\", \"DIM_BRANCHES\".\"CODE\"'"
      ]
     },
     "execution_count": 21,
     "metadata": {},
     "output_type": "execute_result"
    }
   ],
   "source": [
    "from sqlalchemy import and_, func\n",
    "\n",
    "dm_query = select([managers.columns.EMPLOYEE_CODE,\n",
    "            managers.c.FULL_NAME.label('MANAGER_NAME'),\n",
    "            products.c.CODE.label('PRODUCT_CODE'),\n",
    "            products.c.NAME.label('PRODUCT_NAME'),\n",
    "            branches.c.CODE.label('BRANCH_CODE'),\n",
    "            branches.c.NAME.label('BRANCH_NAME'),\n",
    "            branches_geo.c.LONGITUDE.label('BRANCH_LON'),\n",
    "            branches_geo.c.LATITUDE.label('BRANCH_LAT'),\n",
    "            branches_geo.c.REGION_ISO_CODE.label('REGION_ISO_CODE'),\n",
    "            managers_kpi.c.KPI,\n",
    "            sales.c.OPERATION_DATE,            \n",
    "            func.sum(sales.c.QUANTITY).label('QUANTITY')\n",
    "           ]).where(and_(sales.c.OPERATION_DATE.between(managers.c.DT_VALID_FROM,managers.c.DT_VALID_TO),\\\n",
    "                         sales.c.OPERATION_DATE.between(products.c.DT_VALID_FROM,products.c.DT_VALID_TO),\\\n",
    "                         sales.c.OPERATION_DATE.between(branches.c.DT_VALID_FROM,branches.c.DT_VALID_TO),\\\n",
    "                         sales.c.OPERATION_DATE.between(branches_geo.c.DT_VALID_FROM,branches_geo.c.DT_VALID_TO),\\\n",
    "                         sales.c.OPERATION_DATE.between(managers_kpi.c.DT_VALID_FROM,managers_kpi.c.DT_VALID_TO)\\\n",
    "                        ))\\\n",
    "    .where(and_(sales.c.MANAGER_ID==managers.c.ID, sales.c.BRANCH_ID==branches.c.ID,\\\n",
    "                sales.c.PRODUCT_ID==products.c.ID, managers_kpi.c.MANAGER_ID==managers.c.ID,\\\n",
    "                branches_geo.c.BRANCH_ID==branches.c.ID))\\\n",
    "    .group_by(managers.columns.EMPLOYEE_CODE,\n",
    "              managers.c.FULL_NAME,\n",
    "              products.c.CODE,\n",
    "              products.c.NAME,\n",
    "              branches.c.CODE,\n",
    "              branches.c.NAME,\n",
    "              branches_geo.c.LONGITUDE,\n",
    "              branches_geo.c.LATITUDE,\n",
    "              branches_geo.c.REGION_ISO_CODE,\n",
    "              managers_kpi.c.KPI,\n",
    "              sales.c.OPERATION_DATE)\\\n",
    "    .order_by(sales.c.OPERATION_DATE, branches.c.CODE)\n",
    "\n",
    "str(dm_query)"
   ]
  },
  {
   "cell_type": "code",
   "execution_count": null,
   "metadata": {
    "collapsed": false,
    "deletable": true,
    "editable": true
   },
   "outputs": [
    {
     "name": "stderr",
     "output_type": "stream",
     "text": [
      "C:\\Users\\a.iskaliyev\\AppData\\Local\\Enthought\\Canopy\\edm\\envs\\User\\lib\\site-packages\\sqlalchemy\\sql\\sqltypes.py:596: SAWarning: Dialect sqlite+pysqlite does *not* support Decimal objects natively, and SQLAlchemy must convert from floating point - rounding errors and other issues may occur. Please consider storing Decimal numbers as strings or integers on this platform for lossless storage.\n",
      "  'storage.' % (dialect.name, dialect.driver))\n"
     ]
    }
   ],
   "source": [
    "rp = connection.execute(dm_query)\n",
    "more_rows = True\n",
    "i=0\n",
    "\n",
    "while more_rows:\n",
    "    partial_results = rp.fetchmany(500000)    \n",
    "    if partial_results == []:\n",
    "        more_rows = False\n",
    "    else:\n",
    "        df = pd.DataFrame(partial_results)   \n",
    "        df.columns = partial_results[0].keys()\n",
    "        df.to_csv('./DM_SALES'+str(i)+'.csv', sep=';', encoding='utf-8')\n",
    "        i+=1"
   ]
  },
  {
   "cell_type": "code",
   "execution_count": 25,
   "metadata": {
    "collapsed": true,
    "deletable": true,
    "editable": true
   },
   "outputs": [],
   "source": [
    "connection.close()"
   ]
  },
  {
   "cell_type": "code",
   "execution_count": null,
   "metadata": {
    "collapsed": true
   },
   "outputs": [],
   "source": []
  }
 ],
 "metadata": {
  "kernelspec": {
   "display_name": "Python 3",
   "language": "python",
   "name": "python3"
  },
  "language_info": {
   "codemirror_mode": {
    "name": "ipython",
    "version": 3
   },
   "file_extension": ".py",
   "mimetype": "text/x-python",
   "name": "python",
   "nbconvert_exporter": "python",
   "pygments_lexer": "ipython3",
   "version": "3.5.2"
  }
 },
 "nbformat": 4,
 "nbformat_minor": 2
}
